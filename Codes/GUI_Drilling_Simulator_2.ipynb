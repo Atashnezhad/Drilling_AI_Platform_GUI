{
 "cells": [
  {
   "cell_type": "markdown",
   "metadata": {},
   "source": [
    "# A Graphical User Interface for Autonomous Drilling Platform"
   ]
  },
  {
   "cell_type": "code",
   "execution_count": 1,
   "metadata": {},
   "outputs": [],
   "source": [
    "import tkinter as tk                     \n",
    "from tkinter import ttk \n",
    "import GUI_Functions"
   ]
  },
  {
   "cell_type": "markdown",
   "metadata": {},
   "source": [
    "### Ignore warnings"
   ]
  },
  {
   "cell_type": "code",
   "execution_count": 2,
   "metadata": {},
   "outputs": [],
   "source": [
    "import warnings\n",
    "warnings.filterwarnings('ignore')"
   ]
  },
  {
   "cell_type": "markdown",
   "metadata": {},
   "source": [
    "### Main GUI Body"
   ]
  },
  {
   "cell_type": "code",
   "execution_count": 4,
   "metadata": {},
   "outputs": [],
   "source": [
    "window = tk.Tk() \n",
    "\n",
    "window.title('Drilling Simulation and Real-Time Optimization Platform')\n",
    "window.geometry('800x500')\n",
    "window.resizable(0,0)\n",
    "\n",
    "tabControl = ttk.Notebook(window) \n",
    "  \n",
    "tab1 = ttk.Frame(tabControl) \n",
    "tab2 = ttk.Frame(tabControl) \n",
    "  \n",
    "tabControl.add(tab1, text ='Upload Data') \n",
    "tabControl.add(tab2, text ='Drilling Analysis') \n",
    "tabControl.pack(expand = 1, fill =\"both\") \n",
    "\n",
    "\n",
    "text1 = \"Here user uploads the data including Operational parameters, \\\n",
    "bit details, and temperature properties\"\n",
    "ttk.Label(tab1, text =text1).grid(column = 0,  \n",
    "                                  row = 0, \n",
    "                                  padx = 30, \n",
    "                                  pady = 30)   \n",
    "\n",
    "\n",
    "ttk.Button(tab1,\n",
    "           text=\"Upload Operational parameters\",\n",
    "           command=GUI_Functions.clicked_1, width=40).place(x=30, y=70)\n",
    "\n",
    "ttk.Button(tab1,\n",
    "           text=\"Upload bit details\",\n",
    "           command=GUI_Functions.clicked_2, width=40).place(x=30, y=100)\n",
    "\n",
    "ttk.Button(tab1,\n",
    "           text=\"Upload temperature properties\",\n",
    "           command=GUI_Functions.clicked_3, width=40).place(x=30, y=130)\n",
    "\n",
    "\n",
    "\n",
    "\n",
    "text2 = \"Here the user will run a three-step procedure including \\\n",
    "initial analysis, real-time PCR, and real-time optimum analysis\"\n",
    "ttk.Label(tab2, \n",
    "          text = text2).grid(column = 0, \n",
    "                                    row = 0,  \n",
    "                                    padx = 30, \n",
    "                                    pady = 30) \n",
    "\n",
    "\n",
    "\n",
    "ttk.Button(tab2,\n",
    "           text=\"STEP1: Run initial Analysis\",\n",
    "           command=GUI_Functions.clicked_1, width=40).place(x=30, y=70)\n",
    "\n",
    "ttk.Button(tab2,\n",
    "           text=\"STEP2: Run UCS_realtime Analysis\",\n",
    "           command=GUI_Functions.clicked_2, width=40).place(x=30, y=100)\n",
    "\n",
    "ttk.Button(tab2,\n",
    "           text=\"STEP3: Run Optimum Real-time Analysis\",\n",
    "           command=GUI_Functions.clicked_3, width=40).place(x=30, y=130)\n",
    "\n",
    "\n",
    "\n",
    "  \n",
    "window.mainloop() "
   ]
  },
  {
   "cell_type": "code",
   "execution_count": null,
   "metadata": {},
   "outputs": [],
   "source": []
  },
  {
   "cell_type": "code",
   "execution_count": null,
   "metadata": {},
   "outputs": [],
   "source": []
  },
  {
   "cell_type": "code",
   "execution_count": null,
   "metadata": {},
   "outputs": [],
   "source": []
  }
 ],
 "metadata": {
  "kernelspec": {
   "display_name": "Python 3",
   "language": "python",
   "name": "python3"
  },
  "language_info": {
   "codemirror_mode": {
    "name": "ipython",
    "version": 3
   },
   "file_extension": ".py",
   "mimetype": "text/x-python",
   "name": "python",
   "nbconvert_exporter": "python",
   "pygments_lexer": "ipython3",
   "version": "3.6.4"
  }
 },
 "nbformat": 4,
 "nbformat_minor": 4
}
