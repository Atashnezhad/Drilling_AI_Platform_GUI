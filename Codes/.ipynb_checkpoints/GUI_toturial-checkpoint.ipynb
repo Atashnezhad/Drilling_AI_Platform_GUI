{
 "cells": [
  {
   "cell_type": "markdown",
   "metadata": {},
   "source": [
    "# Developing a GUI for Drilling optimization system\n",
    "\n",
    "GUI toturial:\n",
    "https://www.youtube.com/watch?v=VMP1oQOxfM0&t=1258s&ab_channel=edureka%21\n"
   ]
  },
  {
   "cell_type": "code",
   "execution_count": 2,
   "metadata": {},
   "outputs": [],
   "source": [
    "import tkinter\n",
    "from tkinter.ttk import *"
   ]
  },
  {
   "cell_type": "code",
   "execution_count": 77,
   "metadata": {},
   "outputs": [],
   "source": [
    "window = tkinter.Tk()\n",
    "window.title('Drilling Simulator')\n",
    "\n",
    "window.geometry('1000x500')\n",
    "\n",
    "L1 = tkinter.Label(window, \n",
    "                   text = 'Hello',\n",
    "                   font=('Arial Bold', 50))\n",
    "L1.grid(column=1,row=0)\n",
    "\n",
    "\n",
    "\n",
    "\n",
    "\n",
    "def clicked():\n",
    "    L1.configure(text='Button was clicked!!')\n",
    "\n",
    "\n",
    "bt = tkinter.Button(window, \n",
    "                    text=\"Enter\",\n",
    "                    bg='orange',\n",
    "                    fg='red',\n",
    "                    command=clicked)\n",
    "bt.grid(column=0,row=0)\n",
    "\n",
    "\n",
    "\n",
    "\n",
    "\n",
    "txt = tkinter.Entry(window, width=10)\n",
    "txt.grid(column=1,row=1)\n",
    "def clicked2():\n",
    "    \n",
    "    res='welcome to ' + txt.get()\n",
    "    L1.configure(text=res)\n",
    "\n",
    "bt2 = tkinter.Button(window, text='Enter',\n",
    "           command=clicked2)\n",
    "bt2.grid(column=0,row=1)\n",
    "\n",
    "\n",
    "\n",
    "\n",
    "\n",
    "\n",
    "combo = Combobox(window)\n",
    "combo['values'] = (1,2,3,4,5, 'text')\n",
    "combo.current(3)\n",
    "combo.grid(column=0, row=2)\n",
    "\n",
    "\n",
    "\n",
    "chk_state = tkinter.BooleanVar()\n",
    "chk_state.set(False)\n",
    "chk = Checkbutton(window, text='Select', var=chk_state)\n",
    "chk.grid(column=0,row=3)\n",
    "\n",
    "\n",
    "\n",
    "\n",
    "\n",
    "rad1 = Radiobutton(window, text='Python1', value=1)\n",
    "rad2 = Radiobutton(window, text='Python2', value=2)\n",
    "rad3 = Radiobutton(window, text='Python3', value=3)\n",
    "rad1.grid(column=0,row=4)\n",
    "rad2.grid(column=1,row=4)\n",
    "rad3.grid(column=2,row=4)\n",
    "\n",
    "\n",
    "\n",
    "\n",
    "\n",
    "\n",
    "from tkinter import scrolledtext\n",
    "txt2 = scrolledtext.ScrolledText(window, width=40,height=10)\n",
    "txt2.grid(column=0,row=5)\n",
    "\n",
    "\n",
    "\n",
    "from tkinter import messagebox\n",
    "def clicked3():\n",
    "    messagebox.showinfo('Message title','Message content')\n",
    "\n",
    "bt3 = Button(window, text='Enter', command=clicked3)\n",
    "bt3.grid(column=0,row=6)\n",
    "\n",
    "\n",
    "\n",
    "spin = tkinter.Spinbox(window, from_=0, to=100, width=10)\n",
    "spin.grid(column=0,row=7)\n",
    "\n",
    "\n",
    "\n",
    "\n",
    "\n",
    "\n",
    "\n",
    "\n",
    "\n",
    "\n",
    "\n",
    "\n",
    "window.mainloop()"
   ]
  },
  {
   "cell_type": "code",
   "execution_count": 81,
   "metadata": {},
   "outputs": [],
   "source": [
    "window = tkinter.Tk()\n",
    "window.title('Drilling 2')\n",
    "window.geometry('400x400')\n",
    "\n",
    "top_frame = tkinter.Frame(window).pack()\n",
    "bottom_frame = tkinter.Frame(window).pack(side='bottom')\n",
    "\n",
    "btn1 = tkinter.Button(top_frame, text='Button1',\n",
    "                      fg='red').pack()\n",
    "btn2 = tkinter.Button(top_frame, text='Button1',\n",
    "                      fg='red').pack()\n",
    "\n",
    "btn3 = tkinter.Button(top_frame, text='Button1',\n",
    "                      fg='red').pack(side='left')\n",
    "btn4 = tkinter.Button(top_frame, text='Button1',\n",
    "                      fg='red').pack(side='left')\n",
    "\n",
    "\n",
    "window.mainloop()"
   ]
  },
  {
   "cell_type": "code",
   "execution_count": 78,
   "metadata": {},
   "outputs": [],
   "source": [
    "window = tkinter.Tk()\n",
    "window.title('Drilling 3')\n",
    "window.geometry('400x300')\n",
    "\n",
    "\n",
    "\n",
    "tkinter.Label(window, text='Suf...',\n",
    "             fg='white',\n",
    "             bg='purple').pack()\n",
    "\n",
    "tkinter.Label(window, text='Taking all avai X',\n",
    "             bg='green').pack(fill='x')\n",
    "\n",
    "tkinter.Label(window, text='taking all avai Y',\n",
    "             fg='white',\n",
    "             bg='black').pack(side='left', fill = 'y')\n",
    "\n",
    "\n",
    "window.mainloop()"
   ]
  },
  {
   "cell_type": "code",
   "execution_count": 5,
   "metadata": {},
   "outputs": [
    {
     "ename": "TclError",
     "evalue": "image \"pyimage2\" doesn't exist",
     "output_type": "error",
     "traceback": [
      "\u001b[1;31m---------------------------------------------------------------------------\u001b[0m",
      "\u001b[1;31mTclError\u001b[0m                                  Traceback (most recent call last)",
      "\u001b[1;32m<ipython-input-5-179f52deaabd>\u001b[0m in \u001b[0;36m<module>\u001b[1;34m\u001b[0m\n\u001b[0;32m      1\u001b[0m \u001b[0mwindow\u001b[0m \u001b[1;33m=\u001b[0m \u001b[0mtkinter\u001b[0m\u001b[1;33m.\u001b[0m\u001b[0mTk\u001b[0m\u001b[1;33m(\u001b[0m\u001b[1;33m)\u001b[0m\u001b[1;33m\u001b[0m\u001b[0m\n\u001b[0;32m      2\u001b[0m \u001b[0micon\u001b[0m \u001b[1;33m=\u001b[0m \u001b[0mtkinter\u001b[0m\u001b[1;33m.\u001b[0m\u001b[0mPhotoImage\u001b[0m\u001b[1;33m(\u001b[0m\u001b[0mfile\u001b[0m\u001b[1;33m=\u001b[0m\u001b[1;34m\"C:/Users/DASLAB Hareland 3/Documents/All_Amin_Github/GUI/Codes/okstate_Logo.png\"\u001b[0m\u001b[1;33m)\u001b[0m\u001b[1;33m\u001b[0m\u001b[0m\n\u001b[1;32m----> 3\u001b[1;33m \u001b[0mlabel\u001b[0m \u001b[1;33m=\u001b[0m \u001b[0mtkinter\u001b[0m\u001b[1;33m.\u001b[0m\u001b[0mLabel\u001b[0m\u001b[1;33m(\u001b[0m\u001b[0mwindow\u001b[0m\u001b[1;33m,\u001b[0m \u001b[0mimage\u001b[0m \u001b[1;33m=\u001b[0m \u001b[0micon\u001b[0m\u001b[1;33m)\u001b[0m\u001b[1;33m\u001b[0m\u001b[0m\n\u001b[0m\u001b[0;32m      4\u001b[0m \u001b[0mwindow\u001b[0m\u001b[1;33m.\u001b[0m\u001b[0mmainloop\u001b[0m\u001b[1;33m(\u001b[0m\u001b[1;33m)\u001b[0m\u001b[1;33m\u001b[0m\u001b[0m\n",
      "\u001b[1;32mc:\\users\\daslab hareland 3\\appdata\\local\\programs\\python\\python36\\lib\\tkinter\\__init__.py\u001b[0m in \u001b[0;36m__init__\u001b[1;34m(self, master, cnf, **kw)\u001b[0m\n\u001b[0;32m   2758\u001b[0m \u001b[1;33m\u001b[0m\u001b[0m\n\u001b[0;32m   2759\u001b[0m         \"\"\"\n\u001b[1;32m-> 2760\u001b[1;33m         \u001b[0mWidget\u001b[0m\u001b[1;33m.\u001b[0m\u001b[0m__init__\u001b[0m\u001b[1;33m(\u001b[0m\u001b[0mself\u001b[0m\u001b[1;33m,\u001b[0m \u001b[0mmaster\u001b[0m\u001b[1;33m,\u001b[0m \u001b[1;34m'label'\u001b[0m\u001b[1;33m,\u001b[0m \u001b[0mcnf\u001b[0m\u001b[1;33m,\u001b[0m \u001b[0mkw\u001b[0m\u001b[1;33m)\u001b[0m\u001b[1;33m\u001b[0m\u001b[0m\n\u001b[0m\u001b[0;32m   2761\u001b[0m \u001b[1;33m\u001b[0m\u001b[0m\n\u001b[0;32m   2762\u001b[0m \u001b[1;32mclass\u001b[0m \u001b[0mListbox\u001b[0m\u001b[1;33m(\u001b[0m\u001b[0mWidget\u001b[0m\u001b[1;33m,\u001b[0m \u001b[0mXView\u001b[0m\u001b[1;33m,\u001b[0m \u001b[0mYView\u001b[0m\u001b[1;33m)\u001b[0m\u001b[1;33m:\u001b[0m\u001b[1;33m\u001b[0m\u001b[0m\n",
      "\u001b[1;32mc:\\users\\daslab hareland 3\\appdata\\local\\programs\\python\\python36\\lib\\tkinter\\__init__.py\u001b[0m in \u001b[0;36m__init__\u001b[1;34m(self, master, widgetName, cnf, kw, extra)\u001b[0m\n\u001b[0;32m   2291\u001b[0m             \u001b[1;32mdel\u001b[0m \u001b[0mcnf\u001b[0m\u001b[1;33m[\u001b[0m\u001b[0mk\u001b[0m\u001b[1;33m]\u001b[0m\u001b[1;33m\u001b[0m\u001b[0m\n\u001b[0;32m   2292\u001b[0m         self.tk.call(\n\u001b[1;32m-> 2293\u001b[1;33m             (widgetName, self._w) + extra + self._options(cnf))\n\u001b[0m\u001b[0;32m   2294\u001b[0m         \u001b[1;32mfor\u001b[0m \u001b[0mk\u001b[0m\u001b[1;33m,\u001b[0m \u001b[0mv\u001b[0m \u001b[1;32min\u001b[0m \u001b[0mclasses\u001b[0m\u001b[1;33m:\u001b[0m\u001b[1;33m\u001b[0m\u001b[0m\n\u001b[0;32m   2295\u001b[0m             \u001b[0mk\u001b[0m\u001b[1;33m.\u001b[0m\u001b[0mconfigure\u001b[0m\u001b[1;33m(\u001b[0m\u001b[0mself\u001b[0m\u001b[1;33m,\u001b[0m \u001b[0mv\u001b[0m\u001b[1;33m)\u001b[0m\u001b[1;33m\u001b[0m\u001b[0m\n",
      "\u001b[1;31mTclError\u001b[0m: image \"pyimage2\" doesn't exist"
     ]
    }
   ],
   "source": [
    "window = tkinter.Tk()\n",
    "icon = tkinter.PhotoImage(file=\"C:/Users/DASLAB Hareland 3/Documents/All_Amin_Github/GUI/Codes/okstate_Logo.png\")\n",
    "label = tkinter.Label(window, image = icon)\n",
    "window.mainloop()"
   ]
  },
  {
   "cell_type": "code",
   "execution_count": null,
   "metadata": {},
   "outputs": [],
   "source": []
  },
  {
   "cell_type": "code",
   "execution_count": null,
   "metadata": {},
   "outputs": [],
   "source": []
  },
  {
   "cell_type": "code",
   "execution_count": null,
   "metadata": {},
   "outputs": [],
   "source": []
  },
  {
   "cell_type": "code",
   "execution_count": null,
   "metadata": {},
   "outputs": [],
   "source": []
  },
  {
   "cell_type": "code",
   "execution_count": null,
   "metadata": {},
   "outputs": [],
   "source": []
  },
  {
   "cell_type": "code",
   "execution_count": null,
   "metadata": {},
   "outputs": [],
   "source": []
  }
 ],
 "metadata": {
  "kernelspec": {
   "display_name": "Python 3",
   "language": "python",
   "name": "python3"
  },
  "language_info": {
   "codemirror_mode": {
    "name": "ipython",
    "version": 3
   },
   "file_extension": ".py",
   "mimetype": "text/x-python",
   "name": "python",
   "nbconvert_exporter": "python",
   "pygments_lexer": "ipython3",
   "version": "3.6.4"
  }
 },
 "nbformat": 4,
 "nbformat_minor": 4
}
